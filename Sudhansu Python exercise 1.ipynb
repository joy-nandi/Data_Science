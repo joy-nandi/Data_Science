{
 "cells": [
  {
   "cell_type": "raw",
   "id": "24ea2342",
   "metadata": {},
   "source": [
    "1.you have to write a fun which will take string and return a len of it without using a inbuilt fun len"
   ]
  },
  {
   "cell_type": "code",
   "execution_count": null,
   "id": "d6181077",
   "metadata": {},
   "outputs": [],
   "source": [
    "#Soln 1:\n",
    "\n",
    "\n",
    "def getsrlen(str):\n",
    "    '''\n",
    "    \n",
    "    :param str: accepts string as input\n",
    "    :return: integer value of string length\n",
    "    '''\n",
    "    lencount=0\n",
    "    for val in str:\n",
    "        lencount+=1\n",
    "    return lencount\n",
    "\n",
    "print(getsrlen('abcdefgh1@#$'))"
   ]
  },
  {
   "cell_type": "raw",
   "id": "1b82f3d0",
   "metadata": {},
   "source": [
    "2 . write a fun which will be able to print an index of all premitive element which you will pass "
   ]
  },
  {
   "cell_type": "code",
   "execution_count": null,
   "id": "a1fbbd63",
   "metadata": {},
   "outputs": [],
   "source": [
    "#Soln 2:\n",
    "\n",
    "def prnt_Primitive(lst):\n",
    "    '''\n",
    "\n",
    "    :param lst: a collection of elements (primitive and non primitive)\n",
    "    :return: index of non primitive elements\n",
    "    '''\n",
    "    count=0\n",
    "    for val in lst:\n",
    "\n",
    "        if type(val) == int  or type(val)==float  or type(val)==bool or type(val)== str:\n",
    "            print(f'{val} is {type(val)} found at index:',count)\n",
    "            count+=1\n",
    "        else:\n",
    "            print(f'{val} is Non primitive:{type(val)} found at index:', count)\n",
    "            count+=1\n",
    "\n",
    "lst=[1,2,3,2.0,True,False,'a',[1,2]]\n",
    "tup=(1,2,3,2.0,True,False,'a',[1,2])\n",
    "\n",
    "prnt_Primitive(lst)"
   ]
  },
  {
   "cell_type": "raw",
   "id": "308e8a4c",
   "metadata": {},
   "source": [
    "3 . Write a fun which will take input as a dict and give me out as a list of all the values \n",
    "even in case of 2 level nesting it should work . "
   ]
  },
  {
   "cell_type": "code",
   "execution_count": null,
   "id": "e1bd9327",
   "metadata": {},
   "outputs": [],
   "source": [
    "#Soln 3:\n",
    "\n",
    "def getDictVal(dictval):\n",
    "    '''\n",
    "\n",
    "    :param dictval:dictionary with max 2 level of nesting as values.\n",
    "    :return: a list of all the values in the input dictionary, \n",
    "    even two levels of nesting in the input dictionary would also be supported.\n",
    "    '''\n",
    "    lstval=[]\n",
    "    for val in dictval.values():\n",
    "        if type(val) !=dict:\n",
    "            print('Not dict:',val)\n",
    "            lstval.append(val)\n",
    "        else:\n",
    "            print('Dict:',val)\n",
    "            for valnestdict in val.values():\n",
    "                print(valnestdict)\n",
    "                if type(valnestdict) !=dict:\n",
    "                    lstval.append(valnestdict)\n",
    "                else:\n",
    "                    #lstval.append(list(valnestdict.values()))\n",
    "                    for nextvaltwo in valnestdict.values():\n",
    "                        lstval.append(nextvaltwo)\n",
    "    return lstval\n",
    "\n",
    "\n",
    "dictval={'a':1,'b':2,'c':3,'d':{'e':4},'e':5,'f':'Hi','g':1.2,'h':{'i':{'j':6}}}\n",
    "print(getDictVal(dictval))"
   ]
  },
  {
   "cell_type": "raw",
   "id": "d7d32f98",
   "metadata": {},
   "source": [
    "4 . write a fun which will take another function as an input and return me an output "
   ]
  },
  {
   "cell_type": "code",
   "execution_count": null,
   "id": "2b0a804e",
   "metadata": {},
   "outputs": [],
   "source": [
    "#Soln 4:\n",
    "\n",
    "def func(fn):\n",
    "    '''\n",
    "    \n",
    "    :param fn: accepts function as a parameter\n",
    "    :return: \n",
    "    '''\n",
    "    print(fn,type(fn))\n",
    "\n",
    "def fn():\n",
    "    '''\n",
    "    \n",
    "    :return: returning integer\n",
    "    '''\n",
    "    return 1\n",
    "\n",
    "func(fn)\n",
    "func(fn())"
   ]
  },
  {
   "cell_type": "raw",
   "id": "8709cc25",
   "metadata": {},
   "source": [
    "5. write a function whihc will take multiple list as a input and give me concatnation of all the element as \n",
    "and output "
   ]
  },
  {
   "cell_type": "code",
   "execution_count": null,
   "id": "451a1b15",
   "metadata": {},
   "outputs": [],
   "source": [
    "#Soln 5:\n",
    "\n",
    "def lstconcat(*lst):\n",
    "    '''\n",
    "    \n",
    "    :param lst: \n",
    "    :return: a list object concatinating the lists passed as args\n",
    "    '''\n",
    "    lstnew=[]\n",
    "    for lst in lst:\n",
    "        lstnew+=lst\n",
    "    return  lstnew\n",
    "\n",
    "print(lstconcat([1,2],[3,4],[5,6],['a'],[1.0]))\n",
    "print(lstconcat())"
   ]
  },
  {
   "cell_type": "raw",
   "id": "e907ddbd",
   "metadata": {},
   "source": [
    "6 . write a function which will be able to take a list as an input return an index of each element \n",
    "like a inbuilt index function but even if we have repetative element it should return index "
   ]
  },
  {
   "cell_type": "code",
   "execution_count": null,
   "id": "2e94af25",
   "metadata": {},
   "outputs": [],
   "source": [
    "#Soln 6:\n",
    "\n",
    "def getIndex(lst):\n",
    "    '''\n",
    "    \n",
    "    :param lst: accepts a list\n",
    "    :return: set of duplicate elements & elements and their positions\n",
    "    '''\n",
    "\n",
    "    dupelst=set()\n",
    "    setval=set()\n",
    "    for index,val in enumerate(lst):\n",
    "        print(f'{val} found at position :{index}')\n",
    "        # adding unique elements in setval\n",
    "        # and dupe elements in dupelst\n",
    "        if val not in setval:\n",
    "            setval.add(val)\n",
    "        else:\n",
    "            dupelst.add(val)\n",
    "    return \"Dupe elements in list:\",dupelst\n",
    "\n",
    "\n",
    "\n",
    "lst=[1,2,3,4,5,2,3,1,2,3]\n",
    "print(getIndex(lst))"
   ]
  },
  {
   "cell_type": "raw",
   "id": "8b77d09e",
   "metadata": {},
   "source": [
    "7 . Write a function which will whould return list of all the file name from a directory . "
   ]
  },
  {
   "cell_type": "code",
   "execution_count": null,
   "id": "73ff4d4c",
   "metadata": {},
   "outputs": [],
   "source": [
    "#Soln 7:\n",
    "\n",
    "import os\n",
    "\n",
    "def getfilelist(path):\n",
    "    '''\n",
    "    \n",
    "    :param path: raw string of the directory path\n",
    "    :return: a list of file names\n",
    "    '''\n",
    "    os.chdir(path)\n",
    "    return os.listdir()\n",
    "\n",
    "path=r'C:\\Users\\06819T744\\Documents\\Full stack data science\\python\\basic\\Questions'\n",
    "print(getfilelist(path))"
   ]
  },
  {
   "cell_type": "raw",
   "id": "514d551b",
   "metadata": {},
   "source": [
    "8  . write a function which will be able to show your system configuration ."
   ]
  },
  {
   "cell_type": "code",
   "execution_count": null,
   "id": "3b3c27c7",
   "metadata": {},
   "outputs": [],
   "source": [
    "#Soln 8:\n",
    "\n",
    "import platform\n",
    "\n",
    "\n",
    "def getsysconf():\n",
    "    '''\n",
    "    Get the system configuration using platform module\n",
    "    :return: String\n",
    "    '''\n",
    "\n",
    "    my_system = platform.uname()\n",
    "\n",
    "    s=(f\"System: {my_system.system}\") +'\\n'+\\\n",
    "    (f\"Node Name: {my_system.node}\") +'\\n'+\\\n",
    "    (f\"Release: {my_system.release}\") +'\\n'+\\\n",
    "    (f\"Version: {my_system.version}\") +'\\n'+\\\n",
    "    (f\"Machine: {my_system.machine}\") +'\\n'+\\\n",
    "    (f\"Processor: {my_system.processor}\")\n",
    "    \n",
    "    return s\n",
    "\n",
    "print(getsysconf())\n"
   ]
  },
  {
   "cell_type": "raw",
   "id": "29c9a07b",
   "metadata": {},
   "source": [
    "9 . write a function which will be able to show date and time  ."
   ]
  },
  {
   "cell_type": "code",
   "execution_count": null,
   "id": "93fc6b5a",
   "metadata": {},
   "outputs": [],
   "source": [
    "#Soln 9:\n",
    "\n",
    "import datetime\n",
    "\n",
    "\n",
    "def getDateTime():\n",
    "    '''\n",
    "    Uses datetime module to get the date and time\n",
    "    :return: String\n",
    "    '''\n",
    "    e = datetime.datetime.now()\n",
    "    strNow= (\"Current date and time = %s\" % e)\n",
    "    strDate= (\"Today's date:  = %s/%s/%s\" % (e.day, e.month, e.year))\n",
    "    strTime= (\"The time is now: = %s:%s:%s\" % (e.hour, e.minute, e.second))\n",
    "\n",
    "    return strNow+'\\n'+strDate+'\\n'+strTime\n",
    "\n",
    "print(getDateTime())"
   ]
  },
  {
   "cell_type": "raw",
   "id": "50b92f5e",
   "metadata": {},
   "source": [
    "10 . write a function whihc will be able to read a image file and show it to you ."
   ]
  },
  {
   "cell_type": "code",
   "execution_count": null,
   "id": "985bf96e",
   "metadata": {},
   "outputs": [],
   "source": [
    "#Soln 10:\n",
    "\n",
    "from  PIL import Image\n",
    "\n",
    "def showImg(path):\n",
    "    '''\n",
    "    shows the image\n",
    "    :param path: path of the image file\n",
    "    :return:\n",
    "    '''\n",
    "\n",
    "    #Read image\n",
    "    im = Image.open(path)\n",
    "    #Display image\n",
    "    im.show()\n",
    "\n",
    "path=r'C:\\Users\\06819T744\\Pictures\\Joy w3 image.jpg'\n",
    "showImg(path)"
   ]
  },
  {
   "cell_type": "raw",
   "id": "485030fc",
   "metadata": {},
   "source": [
    "11 . write a function which can read video file and play for you . "
   ]
  },
  {
   "cell_type": "code",
   "execution_count": null,
   "id": "5374f5b2",
   "metadata": {},
   "outputs": [],
   "source": [
    "#Soln 11:\n",
    "from cv2 import cv2\n",
    "#ffpyplayer for playing audio\n",
    "from ffpyplayer.player import MediaPlayer\n",
    "\n",
    "def readnplayvid(vidfilepath):\n",
    "        '''\n",
    "\n",
    "        :param vidfilepath: absolute path of the video file\n",
    "        :return:\n",
    "        '''\n",
    "\n",
    "        #creating a video capture object referencing the video file path\n",
    "        cap = cv2.VideoCapture(vidfilepath)\n",
    "        # creating Media Player object for playing audio\n",
    "        player = MediaPlayer(vidfilepath)\n",
    "        #check if the video capture is open\n",
    "        if(cap.isOpened() == False):\n",
    "            print(\"Error Opening Video Stream Or File\")\n",
    "\n",
    "        # while there is still frames to be rendered.\n",
    "        while(cap.isOpened()):\n",
    "            # returns return value=True/False and frame /Image object\n",
    "            ret, frame =cap.read()\n",
    "            audio_frame, val = player.get_frame()\n",
    "\n",
    "            if ret == True:\n",
    "                cv2.imshow('frame', frame)\n",
    "                if val != 'eof' and audio_frame is not None:\n",
    "                    # audio\n",
    "                    img, t = audio_frame\n",
    "\n",
    "                if cv2.waitKey(25)  == ord('q'):\n",
    "                    break\n",
    "            # no more frames to show\n",
    "            else:\n",
    "                break\n",
    "\n",
    "        # releasing the Video capture object\n",
    "        cap.release()\n",
    "        # closing the frame windows used for displaying the video\n",
    "        cv2.destroyAllWindows()\n",
    "\n",
    "\n",
    "path=r'C:\\Users\\06819T744\\Downloads\\Ocean.mp4'\n",
    "readnplayvid(path)"
   ]
  },
  {
   "cell_type": "raw",
   "id": "6a248570",
   "metadata": {},
   "source": [
    "12  . write a function whihc can move a file from one directory to another directory . "
   ]
  },
  {
   "cell_type": "code",
   "execution_count": null,
   "id": "acdebcfb",
   "metadata": {},
   "outputs": [],
   "source": [
    "#Soln 12:\n",
    "\n",
    "import shutil\n",
    "\n",
    "# absolute path\n",
    "src_path = r\"C:\\Users\\06819T744\\Documents\\Sabre-L2 Support -A case Study.pptx\"\n",
    "dst_path = r\"C:\\Users\\06819T744\\Desktop\"\n",
    "\n",
    "\n",
    "def movefile(src_path,dst_path):\n",
    "    '''\n",
    "    moves the file from source to destination path\n",
    "    :param src_path:absolute path of the source file\n",
    "    :param dst_path:absolute path of the destination path\n",
    "    :return:\n",
    "    '''\n",
    "    shutil.move(src_path, dst_path)\n",
    "\n",
    "movefile(src_path,dst_path)"
   ]
  },
  {
   "cell_type": "raw",
   "id": "9eb4634f",
   "metadata": {},
   "source": [
    "13 . write a function which will be able to shutdonw your system . "
   ]
  },
  {
   "cell_type": "code",
   "execution_count": null,
   "id": "78cff5d3",
   "metadata": {},
   "outputs": [],
   "source": [
    "#Soln 13:\n",
    "\n",
    "import os\n",
    "\n",
    "\n",
    "def shutdowncomp():\n",
    "\t'''\n",
    "\tShutdown computer using the os module\n",
    "\t-Shutdown the computer interactively\n",
    "\t:return: \n",
    "\t'''\n",
    "\tshutdown = input(\"Do you wish to shutdown your computer ? (yes / no): \")\n",
    "\t\n",
    "\tif shutdown == 'no':\n",
    "\t\texit()\n",
    "\telse:\n",
    "\t\tos.system(\"shutdown /s /t 1\")\n",
    "        \n",
    "shutdowncomp()\n",
    "    "
   ]
  },
  {
   "cell_type": "raw",
   "id": "e23cd323",
   "metadata": {},
   "source": [
    "14 . write a function whihc will be able to access your mail . "
   ]
  },
  {
   "cell_type": "code",
   "execution_count": null,
   "id": "9543656b",
   "metadata": {},
   "outputs": [],
   "source": [
    "#Soln 14:\n",
    "# Python 3.8.0\n",
    "\n",
    "import imaplib\n",
    "import email\n",
    "import traceback\n",
    "# -------------------------------------------------\n",
    "#\n",
    "# Utility to read email from Gmail Using Python\n",
    "#\n",
    "# ------------------------------------------------\n",
    "ORG_EMAIL = \"@gmail.com\"\n",
    "FROM_EMAIL = \"shankar.joy\" + ORG_EMAIL\n",
    "FROM_PWD = \"Winter@123\"\n",
    "SMTP_SERVER = \"imap.gmail.com\"\n",
    "SMTP_PORT = 993\n",
    "\n",
    "def read_email_from_gmail():\n",
    "    try:\n",
    "        mail = imaplib.IMAP4_SSL(SMTP_SERVER)\n",
    "        mail.login(FROM_EMAIL,FROM_PWD)\n",
    "        mail.select('inbox')\n",
    "\n",
    "        data = mail.search(None, 'ebill')\n",
    "        mail_ids = data[1]\n",
    "        id_list = mail_ids[0].split()\n",
    "        first_email_id = int(id_list[0])\n",
    "        latest_email_id = int(id_list[-1])\n",
    "\n",
    "        for i in range(latest_email_id,first_email_id, -1):\n",
    "            data = mail.fetch(str(i), '(RFC822)' )\n",
    "            for response_part in data:\n",
    "                arr = response_part[0]\n",
    "                if isinstance(arr, tuple):\n",
    "                    msg = email.message_from_string(str(arr[1],'utf-8'))\n",
    "                    email_subject = msg['subject']\n",
    "                    email_from = msg['from']\n",
    "                    print('From : ' + email_from + '\\n')\n",
    "                    print('Subject : ' + email_subject + '\\n')\n",
    "\n",
    "    except Exception as e:\n",
    "        traceback.print_exc()\n",
    "        print(str(e))\n",
    "\n",
    "read_email_from_gmail()"
   ]
  },
  {
   "cell_type": "raw",
   "id": "50aafd61",
   "metadata": {},
   "source": [
    "15 . write a func bywhcih i can send a mail to anyone "
   ]
  },
  {
   "cell_type": "code",
   "execution_count": null,
   "id": "04e0b3d0",
   "metadata": {},
   "outputs": [],
   "source": [
    "#Soln 15:\n",
    "\n",
    "import smtplib\n",
    "import ssl\n",
    "\n",
    "\n",
    "def send_email(sender_email, receiver_email, msg):\n",
    "    '''\n",
    "    \n",
    "    :param sender_email: value of sender email\n",
    "    :param receiver_email: value of receiver email\n",
    "    :param msg: message to be send\n",
    "    :return: \n",
    "    '''\n",
    "\n",
    "    port = 465  # For SSL\n",
    "    smtp_server = \"smtp.gmail.com\"\n",
    "    sender_email = sender_email\n",
    "    receiver_email = receiver_email\n",
    "    password = input(\"Type your password and press enter: \")\n",
    "    message = msg\n",
    "\n",
    "    context = ssl.create_default_context()\n",
    "    with smtplib.SMTP_SSL(smtp_server, port, context=context) as server:\n",
    "        server.login(sender_email, password)\n",
    "        server.sendmail(sender_email, receiver_email, message)\n",
    "\n",
    "\n",
    "send_email('test1212@gmail.com', 'test1212@gmail.com', 'This is a test' )"
   ]
  },
  {
   "cell_type": "raw",
   "id": "ea5593b4",
   "metadata": {},
   "source": [
    "16. write a func to read a complete PDf file ."
   ]
  },
  {
   "cell_type": "code",
   "execution_count": null,
   "id": "be103a7b",
   "metadata": {},
   "outputs": [],
   "source": [
    "#Soln 16:\n",
    "\n",
    "import PyPDF2\n",
    "\n",
    "\n",
    "def readPDF(path):\n",
    "    '''\n",
    "    Reads the PDF file's first page and prints\n",
    "    assuming the file is not encrypted.\n",
    "    :param path: Absolute path of the PDF file\n",
    "    :return:\n",
    "    '''\n",
    "\n",
    "    temp = open(path, 'rb')\n",
    "    # Creating the PDF reader object\n",
    "    PDF_read = PyPDF2.PdfFileReader(temp)\n",
    "    if PDF_read.isEncrypted is False:\n",
    "        #first_page = PDF_read.getPage(0)\n",
    "        #print(first_page.extractText())\n",
    "\n",
    "        strtext=''\n",
    "        # reading through all the pages in the PDF\n",
    "        for page in range(PDF_read.numPages):\n",
    "            pageObj=PDF_read.getPage(page)\n",
    "            strtext+=pageObj.extractText()\n",
    "        print(strtext)\n",
    "    else:\n",
    "        print(\"File is encrypted\")\n",
    "\n",
    "path=r'C:\\Users\\06819T744\\Desktop\\applications\\Joy_Nandi.pdf'\n",
    "#path=r'C:\\Users\\06819T744\\Desktop\\Prince2\\PRINCE-pre-recognition.pdf'\n",
    "\n",
    "readPDF(path)"
   ]
  },
  {
   "cell_type": "raw",
   "id": "1c50d943",
   "metadata": {},
   "source": [
    "17. write a function to read a word file ."
   ]
  },
  {
   "cell_type": "code",
   "execution_count": null,
   "id": "956cfa8e",
   "metadata": {},
   "outputs": [],
   "source": [
    "#Soln 17:\n",
    "import docx\n",
    "\n",
    "def getText(filename):\n",
    "    '''\n",
    "    The function uses docx and python-docx modules to by pass the possible\n",
    "    warnings/exceptions.\n",
    "    Reads the word file as a document and goes through every paragraph and appending to list\n",
    "    and printing them separated by new line.\n",
    "    :param filename:\n",
    "    :return:\n",
    "    '''\n",
    "\n",
    "    doc = docx.Document(filename)\n",
    "    fullText = []\n",
    "    for para in doc.paragraphs:\n",
    "        fullText.append(para.text)\n",
    "    return '\\n'.join(fullText)\n",
    "\n",
    "path=r'C:\\Users\\06819T744\\Desktop\\applications\\IBM\\Joy Nandi_7B_IBM - Copy-converted.docx'\n",
    "print(getText(path))"
   ]
  },
  {
   "cell_type": "raw",
   "id": "f0bf263e",
   "metadata": {},
   "source": [
    "18 . write a function which can help you to filter only word file from a directory . "
   ]
  },
  {
   "cell_type": "code",
   "execution_count": null,
   "id": "8addd2df",
   "metadata": {},
   "outputs": [],
   "source": [
    "#Soln 18:\n",
    "\n",
    "import glob,os\n",
    "\n",
    "def getallword(path):\n",
    "    '''\n",
    "    Searches and returns all word files from a path\n",
    "    :param path:\n",
    "    :return: list of file names ending in doc or docx\n",
    "    '''\n",
    "    os.chdir(path)\n",
    "    file_names=glob.glob('*.doc')\n",
    "    file_namesone=glob.glob('*.docx')\n",
    "    return (file_names+file_namesone)\n",
    "\n",
    "\n",
    "path=r'C:\\Users\\06819T744\\Documents'\n",
    "print(getallword(path))\n"
   ]
  },
  {
   "cell_type": "raw",
   "id": "24063be0",
   "metadata": {},
   "source": [
    "19 . write a function by which you can print an ip address of your system . "
   ]
  },
  {
   "cell_type": "code",
   "execution_count": null,
   "id": "688d800b",
   "metadata": {},
   "outputs": [],
   "source": [
    "#Soln 19:\n",
    "\n",
    "# Python Program to Get IP Address\n",
    "import socket\n",
    "\n",
    "\n",
    "def getIP():\n",
    "    '''\n",
    "    \n",
    "    :return: String\n",
    "    \n",
    "    Uses socket to get the Computer name and IP address.\n",
    "    '''\n",
    "    hostname = socket.gethostname()\n",
    "    IPAddr = socket.gethostbyname(hostname)\n",
    "    compname=\"Your Computer Name is:\" + hostname\n",
    "    ipaddr=\"Your Computer IP Address is:\" + IPAddr\n",
    "    return compname+'\\n'+ipaddr\n",
    "\n",
    "print(getIP())\n"
   ]
  },
  {
   "cell_type": "raw",
   "id": "82929e1b",
   "metadata": {},
   "source": [
    "20 . write a function by whihc you will be able to append two PDF files ."
   ]
  },
  {
   "cell_type": "code",
   "execution_count": null,
   "id": "47671709",
   "metadata": {},
   "outputs": [],
   "source": [
    "#Soln 20:\n",
    "import PyPDF2\n",
    "\n",
    "def append2PDF(fileone,filetwo):\n",
    "    '''\n",
    "    The function adds the content of the PDF files and stored in the\n",
    "    working directory using result.pdf name\n",
    "    :param fileone: path of first PDF file\n",
    "    :param filetwo: path of second PDF file\n",
    "    :return:\n",
    "    '''\n",
    "    pdflst=[fileone,filetwo]\n",
    "    pdfWriter = PyPDF2.PdfFileWriter()\n",
    "\n",
    "    for file in pdflst:\n",
    "        pdfFileObj=open(file,'rb')\n",
    "        pdfReader = PyPDF2.PdfFileReader(pdfFileObj)\n",
    "\n",
    "        for pageNum in range(pdfReader.numPages):\n",
    "            pageObj = pdfReader.getPage(pageNum)\n",
    "            pdfWriter.addPage(pageObj)\n",
    "\n",
    "    pdfOutput = open('result.pdf', 'wb')\n",
    "    pdfWriter.write(pdfOutput)\n",
    "    pdfOutput.close()\n",
    "\n",
    "\n",
    "file1=r'C:\\Users\\06819T744\\Desktop\\applications\\one.pdf'\n",
    "file2=r'C:\\Users\\06819T744\\Desktop\\applications\\two.pdf'\n",
    "append2PDF(file1,file2)\n"
   ]
  },
  {
   "cell_type": "code",
   "execution_count": null,
   "id": "725c4201",
   "metadata": {},
   "outputs": [],
   "source": []
  },
  {
   "cell_type": "code",
   "execution_count": null,
   "id": "9eefabe4",
   "metadata": {},
   "outputs": [],
   "source": []
  }
 ],
 "metadata": {
  "kernelspec": {
   "display_name": "Python 3 (ipykernel)",
   "language": "python",
   "name": "python3"
  },
  "language_info": {
   "codemirror_mode": {
    "name": "ipython",
    "version": 3
   },
   "file_extension": ".py",
   "mimetype": "text/x-python",
   "name": "python",
   "nbconvert_exporter": "python",
   "pygments_lexer": "ipython3",
   "version": "3.9.7"
  }
 },
 "nbformat": 4,
 "nbformat_minor": 5
}
